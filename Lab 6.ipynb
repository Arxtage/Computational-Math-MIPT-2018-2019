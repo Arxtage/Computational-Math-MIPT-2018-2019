{
 "cells": [
  {
   "cell_type": "code",
   "execution_count": 1,
   "metadata": {
    "collapsed": true
   },
   "outputs": [],
   "source": [
    "import matplotlib.pylab as plt\n",
    "import numpy as np\n",
    "get_ipython().magic('matplotlib inline')"
   ]
  },
  {
   "cell_type": "code",
   "execution_count": 2,
   "metadata": {
    "collapsed": true
   },
   "outputs": [],
   "source": [
    "def an(r,tet,t,m):\n",
    "    return (r**(2/m)*np.sin(tet)**(2/m)*(6 - 4(m+1)/m*t)**(-1/m)) "
   ]
  },
  {
   "cell_type": "code",
   "execution_count": null,
   "metadata": {
    "collapsed": true
   },
   "outputs": [],
   "source": [
    "def nummodel(L):\n",
    "    r = [None] * (L+1)\n",
    "    a = [None] * (L+1)\n",
    "    b = [None] * (L+1)\n",
    "    c = [None] * (L+1)\n",
    "    d = [None] * (L+1)\n",
    "    u = [None] * (L+1)\n",
    "    alp = [None] * (L+1)\n",
    "    bet = [None] * (L+1)\n",
    "\n",
    "    hr = 1/L\n",
    "\n",
    "    r[0] = 0\n",
    "    r[L] = 1\n",
    "\n",
    "    for l in range(1,L):\n",
    "        r[l] = l*hr\n",
    "        \n",
    "    htet = pi/(2*M)\n",
    "\n",
    "    tet[0] = 0\n",
    "    tet[M] = pi/2\n",
    "\n",
    "    for m in range(1,M):\n",
    "        r[m] = m*htet\n",
    "    \n",
    "    tau = 1/L\n",
    "    \n",
    "    tau[0] = 0\n",
    "    tau[N] = 1\n",
    "\n",
    "    for k in range(1,N):\n",
    "        tau[k] = k*tau\n",
    "        \n",
    "        \n",
    "    a[0] = k1\n",
    "    b[0] = -k1 -d1*h -q1*h**2/2\n",
    "    c[0] = 0\n",
    "    d[0] = -e1*h - f1*h**2/2\n",
    "\n",
    "    a[L] = 0\n",
    "    b[L] = -k1 -d2*h -q1*h**2/2\n",
    "    c[L] = k1\n",
    "    d[L] = -e2*h - f1*h**2/2\n",
    "\n",
    "    for l in range(0,L+1):\n",
    "        for m in range (0,M+1):\n",
    "            for k in range(0,N+1):\n",
    "                a[l] = -r[l+1/2]**2*(u[l+1,m,k]**m+u[l,m,k]**m)*tau/(2*r[l]**2 * hr**2)\n",
    "                b[l] = 1-a[l] - c[l]\n",
    "                c[l] = -r[l-1/2]**2*(u[l,m,k]**m+u[l-1,m,k]**m)*tau/(2*r[l]**2 * hr**2)\n",
    "                d[l] = u[l,m,n]\n",
    "\n",
    "\n",
    "    alp[0] = -a[0]/b[0]\n",
    "    bet[0] = d[0]/b[0]\n",
    "\n",
    "    for l in range(1,L):\n",
    "        alp[l] = -a[l]/(b[l]+c[l]*alp[l-1])\n",
    "        bet[l] = (d[l]-c[l]*bet[l-1])/(b[l]+c[l]*alp[l-1])\n",
    "\n",
    "    \n",
    "    #Compute the values of function\n",
    "    u[L] = (d[L] - c[L]*bet[L-1])/(b[L]+c[L]*alp[L-1])\n",
    "\n",
    "    for l in reversed(range(0,L)):\n",
    "        u[l] = alp[l]*u[l+1] + bet[l]\n",
    "    return (abs(u[L] - anmodel(1)),x,u)"
   ]
  }
 ],
 "metadata": {
  "kernelspec": {
   "display_name": "Python 3",
   "language": "python",
   "name": "python3"
  },
  "language_info": {
   "codemirror_mode": {
    "name": "ipython",
    "version": 3
   },
   "file_extension": ".py",
   "mimetype": "text/x-python",
   "name": "python",
   "nbconvert_exporter": "python",
   "pygments_lexer": "ipython3",
   "version": "3.6.3"
  }
 },
 "nbformat": 4,
 "nbformat_minor": 2
}
