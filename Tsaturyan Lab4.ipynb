{
 "cells": [
  {
   "cell_type": "code",
   "execution_count": 1,
   "metadata": {
    "collapsed": true
   },
   "outputs": [],
   "source": [
    "import matplotlib.pylab as plt\n",
    "import numpy as np\n",
    "get_ipython().magic('matplotlib inline')"
   ]
  },
  {
   "cell_type": "markdown",
   "metadata": {
    "collapsed": true
   },
   "source": [
    "# 1. Analytical solution of model task"
   ]
  },
  {
   "cell_type": "code",
   "execution_count": 9,
   "metadata": {
    "collapsed": true
   },
   "outputs": [],
   "source": [
    "# Coefs in model task\n",
    "k1 = np.sqrt(np.exp(1))\n",
    "q1 = np.sqrt(np.exp(1))\n",
    "f1 = np.cos(0.5)\n",
    "\n",
    "d1 = 1\n",
    "d2 = 1\n",
    "e1 = 0\n",
    "e2 = 1\n",
    "\n",
    "l1 = np.sqrt(q1/k1)\n",
    "l2 = - np.sqrt(q1/k1)\n",
    "\n",
    "up = f1/q1"
   ]
  },
  {
   "cell_type": "code",
   "execution_count": 10,
   "metadata": {
    "collapsed": true
   },
   "outputs": [],
   "source": [
    "coef1 = ((k1*l2 +d2)*(d1*f1-e1*q1)*np.exp(l2)+(k1*l2-d1)*(d2*f1-e2*q1))/(q1*((k1*l1-d1)*(k1*l2+d2)*np.exp(l2)-(k1*l2 -d1)*(k1*l1+d2)*np.exp(l1)))\n",
    "coef2 = ((k1*l1 +d2)*(d1*f1-e1*q1)*np.exp(l1)+(k1*l1-d1)*(d2*f1-e2*q1))/(q1*((k1*l2-d1)*(k1*l1+d2)*np.exp(l1)-(k1*l2 +d2)*(k1*l1-d1)*np.exp(l2)))\n"
   ]
  },
  {
   "cell_type": "code",
   "execution_count": 11,
   "metadata": {
    "collapsed": true
   },
   "outputs": [],
   "source": [
    "def anmodel(x):\n",
    "    u = coef1*np.exp(l1*x) + coef2*np.exp(l2*x) + up\n",
    "    return u"
   ]
  },
  {
   "cell_type": "code",
   "execution_count": 14,
   "metadata": {},
   "outputs": [
    {
     "data": {
      "text/plain": [
       "<matplotlib.collections.PathCollection at 0x1107a7940>"
      ]
     },
     "execution_count": 14,
     "metadata": {},
     "output_type": "execute_result"
    },
    {
     "data": {
      "image/png": "[encoded data removed]",
      "text/plain": [
       "<matplotlib.figure.Figure at 0x11066ffd0>"
      ]
     },
     "metadata": {},
     "output_type": "display_data"
    }
   ],
   "source": [
    "f_x = []\n",
    "z = np.linspace(0,1,100)\n",
    "for i in z:\n",
    "    f_x.append(anmodel(i))\n",
    "plt.scatter(z, f_x)"
   ]
  },
  {
   "cell_type": "markdown",
   "metadata": {},
   "source": [
    "\n",
    "\n",
    "# 2. Numerical solution of model task"
   ]
  },
  {
   "cell_type": "code",
   "execution_count": 15,
   "metadata": {
    "collapsed": true
   },
   "outputs": [],
   "source": [
    "# Tridiagonal matrix algorithm (метод прогонки)\n",
    "\n",
    "def nummodel(L):\n",
    "    x = [None] * (L+1)\n",
    "    a = [None] * (L+1)\n",
    "    b = [None] * (L+1)\n",
    "    c = [None] * (L+1)\n",
    "    d = [None] * (L+1)\n",
    "    u = [None] * (L+1)\n",
    "    alp = [None] * (L+1)\n",
    "    bet = [None] * (L+1)\n",
    "\n",
    "    h = 1/L\n",
    "\n",
    "    x[0] = 0\n",
    "    x[L] = 1\n",
    "\n",
    "    for l in range(1,L):\n",
    "        x[l] = l*h\n",
    "    \n",
    "    a[0] = k1\n",
    "    b[0] = -k1 -d1*h -q1*h**2/2\n",
    "    c[0] = 0\n",
    "    d[0] = -e1*h - f1*h**2/2\n",
    "\n",
    "    a[L] = 0\n",
    "    b[L] = -k1 -d2*h -q1*h**2/2\n",
    "    c[L] = k1\n",
    "    d[L] = -e2*h - f1*h**2/2\n",
    "\n",
    "    for l in range(1,L):\n",
    "        a[l] = k1\n",
    "        b[l] = -2*k1 -q1*h**2\n",
    "        c[l] = k1\n",
    "        d[l] = -f1*h**2\n",
    "\n",
    "\n",
    "    alp[0] = -a[0]/b[0]\n",
    "    bet[0] = d[0]/b[0]\n",
    "\n",
    "    for l in range(1,L):\n",
    "        alp[l] = -a[l]/(b[l]+c[l]*alp[l-1])\n",
    "        bet[l] = (d[l]-c[l]*bet[l-1])/(b[l]+c[l]*alp[l-1])\n",
    "\n",
    "    \n",
    "    #Compute the values of function\n",
    "    u[L] = (d[L] - c[L]*bet[L-1])/(b[L]+c[L]*alp[L-1])\n",
    "\n",
    "    for l in reversed(range(0,L)):\n",
    "        u[l] = alp[l]*u[l+1] + bet[l]\n",
    "    return (abs(u[L] - anmodel(1)),x,u)"
   ]
  },
  {
   "cell_type": "code",
   "execution_count": 16,
   "metadata": {},
   "outputs": [
    {
     "data": {
      "text/plain": [
       "(0.00012988100844857353,\n",
       " [0,\n",
       "  0.1,\n",
       "  0.2,\n",
       "  0.30000000000000004,\n",
       "  0.4,\n",
       "  0.5,\n",
       "  0.6000000000000001,\n",
       "  0.7000000000000001,\n",
       "  0.8,\n",
       "  0.9,\n",
       "  1],\n",
       " [0.40464032161593327,\n",
       "  0.42854479569453907,\n",
       "  0.4514119104279336,\n",
       "  0.47347033696345081,\n",
       "  0.4949406595664459,\n",
       "  0.51603758146294876,\n",
       "  0.53697207187192453,\n",
       "  0.55795347569746301,\n",
       "  0.57919160697781946,\n",
       "  0.60089884702579754,\n",
       "  0.62329226824187689])"
      ]
     },
     "execution_count": 16,
     "metadata": {},
     "output_type": "execute_result"
    }
   ],
   "source": [
    "nummodel(10)"
   ]
  },
  {
   "cell_type": "code",
   "execution_count": 17,
   "metadata": {},
   "outputs": [
    {
     "name": "stdout",
     "output_type": "stream",
     "text": [
      "0.000129881008449\n",
      "1.30090214079e-06\n",
      "L = 100\n"
     ]
    },
    {
     "data": {
      "image/png": "[encoded data removed]",
      "text/plain": [
       "<matplotlib.figure.Figure at 0x1107beb00>"
      ]
     },
     "metadata": {},
     "output_type": "display_data"
    }
   ],
   "source": [
    "eps = 0.00001\n",
    "L=10\n",
    "while nummodel(L)[0]> eps:\n",
    "    print (nummodel(L)[0])\n",
    "    L=L*10\n",
    "else:\n",
    "    print(nummodel(L)[0])\n",
    "    print(\"L =\", L)\n",
    "    plt.plot(nummodel(L)[1], nummodel(L)[2])"
   ]
  },
  {
   "cell_type": "markdown",
   "metadata": {
    "collapsed": true
   },
   "source": [
    "\n",
    "# 3. Numerical solution of the task"
   ]
  },
  {
   "cell_type": "code",
   "execution_count": 18,
   "metadata": {
    "collapsed": true
   },
   "outputs": [],
   "source": [
    "def k(x):\n",
    "    return(x+1)\n",
    "def q(x):\n",
    "    return(x)\n",
    "def f(x):\n",
    "    return(np.exp(-x**2))"
   ]
  },
  {
   "cell_type": "code",
   "execution_count": 19,
   "metadata": {
    "collapsed": true
   },
   "outputs": [],
   "source": [
    "L = 100\n",
    "def func(L):\n",
    "    h = 1/L\n",
    "\n",
    "    x = [None] * (L+1)\n",
    "    a = [None] * (L+1)\n",
    "    b = [None] * (L+1)\n",
    "    c = [None] * (L+1)\n",
    "    d = [None] * (L+1)\n",
    "    u = [None] * (L+1)\n",
    "    alp = [None] * (L+1)\n",
    "    bet = [None] * (L+1)\n",
    "\n",
    "    x[0] = 0\n",
    "    x[L] = 1\n",
    "\n",
    "    for l in range(1,L):\n",
    "        x[l] = l*h\n",
    "\n",
    "    a[0] = k(0)\n",
    "    b[0] = -k(0) -d1*h\n",
    "    c[0] = 0\n",
    "    d[0] = -e1*h\n",
    "\n",
    "    a[L] = 0\n",
    "    b[L] = -k(1) -d2*h\n",
    "    c[L] = k(1)\n",
    "    d[L] = -e2*h\n",
    "\n",
    "    for l in range(1,L):\n",
    "        a[l] = k(l*h + h/2)\n",
    "        b[l] = -(k(l*h+h/2)+k(l*h-h/2)+q(l*h)*h**2)\n",
    "        c[l] = k(l*h - h/2)\n",
    "        d[l] = - f(l*h)*h**2\n",
    "        \n",
    "    ind = 1\n",
    "    for l in range(0,L+1):\n",
    "        if (abs(b[l])< abs(a[l])+abs(c[l])):\n",
    "            ind = 0\n",
    "\n",
    "    alp[0] = -a[0]/b[0]\n",
    "    bet[0] = d[0]/b[0]\n",
    "\n",
    "    for l in range(1,L):\n",
    "        alp[l] = -a[l]/(b[l]+c[l]*alp[l-1])\n",
    "        bet[l] = (d[l]-c[l]*bet[l-1])/(b[l]+c[l]*alp[l-1])\n",
    "\n",
    "    \n",
    "    #Compute the values of function\n",
    "    u[L] = (d[L] - c[L]*bet[L-1])/(b[L]+c[L]*alp[L-1])\n",
    "\n",
    "    for l in reversed(range(0,L)):\n",
    "        u[l] = alp[l]*u[l+1] + bet[l]\n",
    "    return(x,u,u[L],ind)"
   ]
  },
  {
   "cell_type": "code",
   "execution_count": 20,
   "metadata": {},
   "outputs": [],
   "source": [
    "L1 = 10\n",
    "L2 = 20\n",
    "eps = 0.5\n",
    "while(1):\n",
    "    if ((abs((func(L1)[2]) - func(L2)[2])) < eps):\n",
    "        break\n",
    "    else:\n",
    "        print (\"Difference: \",(abs((func(L1)[2]) - func(L2)[2])))\n",
    "        print(L1)\n",
    "        print(L2)\n",
    "        L1  *= 2\n",
    "        L2 *= 2"
   ]
  },
  {
   "cell_type": "code",
   "execution_count": 21,
   "metadata": {},
   "outputs": [
    {
     "data": {
      "text/plain": [
       "[<matplotlib.lines.Line2D at 0x11057f4a8>]"
      ]
     },
     "execution_count": 21,
     "metadata": {},
     "output_type": "execute_result"
    },
    {
     "data": {
      "image/png": "[encoded data removed]",
      "text/plain": [
       "<matplotlib.figure.Figure at 0x110876ba8>"
      ]
     },
     "metadata": {},
     "output_type": "display_data"
    }
   ],
   "source": [
    "plt.plot(func(L)[0], func(L)[1])"
   ]
  },
  {
   "cell_type": "code",
   "execution_count": 13,
   "metadata": {},
   "outputs": [
    {
     "name": "stdout",
     "output_type": "stream",
     "text": [
      "1\n"
     ]
    }
   ],
   "source": [
    "print(func(L2)[3])"
   ]
  }
 ],
 "metadata": {
  "kernelspec": {
   "display_name": "Python 3",
   "language": "python",
   "name": "python3"
  },
  "language_info": {
   "codemirror_mode": {
    "name": "ipython",
    "version": 3
   },
   "file_extension": ".py",
   "mimetype": "text/x-python",
   "name": "python",
   "nbconvert_exporter": "python",
   "pygments_lexer": "ipython3",
   "version": "3.6.3"
  }
 },
 "nbformat": 4,
 "nbformat_minor": 2
}
