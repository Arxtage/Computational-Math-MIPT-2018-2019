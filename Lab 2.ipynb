{
 "cells": [
  {
   "cell_type": "code",
   "execution_count": 1,
   "metadata": {
    "collapsed": true
   },
   "outputs": [],
   "source": [
    "import math"
   ]
  },
  {
   "cell_type": "code",
   "execution_count": 2,
   "metadata": {
    "collapsed": true
   },
   "outputs": [],
   "source": [
    "from scipy import misc"
   ]
  },
  {
   "cell_type": "code",
   "execution_count": 3,
   "metadata": {
    "collapsed": true
   },
   "outputs": [],
   "source": [
    "import matplotlib.pyplot as pl"
   ]
  },
  {
   "cell_type": "code",
   "execution_count": 4,
   "metadata": {
    "collapsed": true
   },
   "outputs": [],
   "source": [
    "x = [0.17453,0.52360,0.87267,1.22173,1.57080,1.91986,2.26893]\n",
    "y = [0.000003,0.00018,0.00227,0.01770,0.09688,0.40481,1.37878]"
   ]
  },
  {
   "cell_type": "code",
   "execution_count": 5,
   "metadata": {
    "collapsed": true
   },
   "outputs": [],
   "source": [
    "def P(z):\n",
    "    fin=0\n",
    "    res = [1.]*7\n",
    "    for n in range(7):\n",
    "        res[n] *= y[n]\n",
    "        for i in range(7):\n",
    "            if i != n:\n",
    "                res[n] *= (z - x[i])/(x[n] - x[i])\n",
    "    for count in range(7):\n",
    "        fin+=res[count]\n",
    "    return(fin)"
   ]
  },
  {
   "cell_type": "code",
   "execution_count": 6,
   "metadata": {
    "collapsed": true
   },
   "outputs": [],
   "source": [
    "%matplotlib inline"
   ]
  },
  {
   "cell_type": "code",
   "execution_count": 7,
   "metadata": {},
   "outputs": [
    {
     "data": {
      "text/plain": [
       "[<matplotlib.lines.Line2D at 0x10e0958d0>]"
      ]
     },
     "execution_count": 7,
     "metadata": {},
     "output_type": "execute_result"
    },
    {
     "data": {
      "image/png": "[encoded data removed]",
      "text/plain": [
       "<matplotlib.figure.Figure at 0x10a0fe310>"
      ]
     },
     "metadata": {},
     "output_type": "display_data"
    }
   ],
   "source": [
    "f_x = []\n",
    "import numpy as np\n",
    "z = np.linspace(0,2.5,100)\n",
    "for i in z:\n",
    "    f_x.append(P(i))\n",
    "pl.plot(z, f_x)"
   ]
  },
  {
   "cell_type": "code",
   "execution_count": 8,
   "metadata": {
    "collapsed": true
   },
   "outputs": [],
   "source": [
    "def spline(x,y):\n",
    "    a = [1.]*6\n",
    "    b = [1.]*6\n",
    "    c = [1.]*6\n",
    "    d = [1.]*6\n",
    "    for i in range(6):\n",
    "        a[i] = (- misc.derivative(P, x[i+1], dx=1e-6)*x[i]**2*x[i+1]*(x[i+1]-x[i]) + y[i+1]*x[i]**2*(3*x[i+1]-x[i])+y[i]*x[i+1]**2*(x[i+1]-3*x[i]) - misc.derivative(P, x[i], dx=1e-6)*x[i]*x[i+1]**2*(x[i+1]-x[i]))/((x[i+1]-x[i])**3)\n",
    "        b[i] = (misc.derivative(P, x[i+1], dx=1e-6)*x[i]*(2*x[i+1]+x[i])*(x[i+1]-x[i])-6*(y[i+1]-y[i])*x[i]*x[i+1]+ misc.derivative(P, x[i], dx=1e-6)*x[i+1]*(x[i+1]+2*x[i])*(x[i+1]-x[i]))/((x[i+1]-x[i])**3)\n",
    "        c[i] = (- misc.derivative(P, x[i+1], dx=1e-6)*(x[i+1]-x[i])*(x[i+1]+2*x[i])+3*(y[i+1]-y[i])*(x[i+1]+x[i]) - misc.derivative(P, x[i], dx=1e-6)*(x[i+1]-x[i])*(x[i]+2*x[i+1]))/((x[i+1]-x[i])**3)\n",
    "        d[i] = (misc.derivative(P, x[i+1], dx=1e-6)*(x[i+1]-x[i])-2*(y[i+1]-y[i]) +misc.derivative(P, x[i], dx=1e-6)*(x[i+1]-x[i]))/((x[i+1]-x[i])**3)\n",
    "\n",
    "    return a,b,c,d"
   ]
  },
  {
   "cell_type": "code",
   "execution_count": 9,
   "metadata": {
    "collapsed": true
   },
   "outputs": [],
   "source": [
    "a,b,c,d = spline(x,y)"
   ]
  },
  {
   "cell_type": "code",
   "execution_count": 11,
   "metadata": {
    "collapsed": true
   },
   "outputs": [],
   "source": [
    "def spline1(a,b,c,d,x):\n",
    "    return(a[0]+b[0]*x+c[0]*x**2+d[0]*x**3)"
   ]
  },
  {
   "cell_type": "code",
   "execution_count": 12,
   "metadata": {
    "collapsed": true
   },
   "outputs": [],
   "source": [
    "def spline2(a,b,c,d,x):\n",
    "    return(a[1]+b[1]*x+c[1]*x**2+d[1]*x**3)"
   ]
  },
  {
   "cell_type": "code",
   "execution_count": 13,
   "metadata": {
    "collapsed": true
   },
   "outputs": [],
   "source": [
    "def spline3(a,b,c,d,x):\n",
    "    return(a[2]+b[2]*x+c[2]*x**2+d[2]*x**3)"
   ]
  },
  {
   "cell_type": "code",
   "execution_count": 14,
   "metadata": {
    "collapsed": true
   },
   "outputs": [],
   "source": [
    "def spline4(a,b,c,d,x):\n",
    "    return(a[3]+b[3]*x+c[3]*x**2+d[3]*x**3)"
   ]
  },
  {
   "cell_type": "code",
   "execution_count": 15,
   "metadata": {
    "collapsed": true
   },
   "outputs": [],
   "source": [
    "def spline5(a,b,c,d,x):\n",
    "    return(a[4]+b[4]*x+c[4]*x**2+d[4]*x**3)"
   ]
  },
  {
   "cell_type": "code",
   "execution_count": 16,
   "metadata": {
    "collapsed": true
   },
   "outputs": [],
   "source": [
    "def spline6(a,b,c,d,x):\n",
    "    return(a[5]+b[5]*x+c[5]*x**2+d[5]*x**3)"
   ]
  },
  {
   "cell_type": "code",
   "execution_count": 17,
   "metadata": {},
   "outputs": [
    {
     "name": "stdout",
     "output_type": "stream",
     "text": [
      "0.00018\n"
     ]
    }
   ],
   "source": [
    "print spline1(a,b,c,d,0.52360)"
   ]
  },
  {
   "cell_type": "code",
   "execution_count": 18,
   "metadata": {},
   "outputs": [
    {
     "name": "stdout",
     "output_type": "stream",
     "text": [
      "0.00018\n"
     ]
    }
   ],
   "source": [
    "print spline2(a,b,c,d,0.52360)"
   ]
  },
  {
   "cell_type": "code",
   "execution_count": 19,
   "metadata": {},
   "outputs": [
    {
     "name": "stdout",
     "output_type": "stream",
     "text": [
      "0.00227\n"
     ]
    }
   ],
   "source": [
    "print spline2(a,b,c,d,0.87267)"
   ]
  },
  {
   "cell_type": "code",
   "execution_count": 20,
   "metadata": {},
   "outputs": [
    {
     "name": "stdout",
     "output_type": "stream",
     "text": [
      "0.00227\n"
     ]
    }
   ],
   "source": [
    "print spline3(a,b,c,d,0.87267)"
   ]
  },
  {
   "cell_type": "code",
   "execution_count": 21,
   "metadata": {},
   "outputs": [
    {
     "data": {
      "text/plain": [
       "[<matplotlib.lines.Line2D at 0x1812e09150>]"
      ]
     },
     "execution_count": 21,
     "metadata": {},
     "output_type": "execute_result"
    },
    {
     "data": {
      "image/png": "[encoded data removed]",
      "text/plain": [
       "<matplotlib.figure.Figure at 0x10e02ec50>"
      ]
     },
     "metadata": {},
     "output_type": "display_data"
    }
   ],
   "source": [
    "f_x = []\n",
    "import numpy as np\n",
    "l1 = np.linspace(0.17453,0.52360,100)\n",
    "l2 = np.linspace(0.52360,0.87267,100)\n",
    "l3 = np.linspace(0.87267,1.22173,100)\n",
    "l4 = np.linspace(1.22173,1.57080,100)\n",
    "l5 = np.linspace(1.57080,1.91986,100)\n",
    "l6 = np.linspace(1.91986,2.26893,100)\n",
    "z = np.linspace(0.17453,2.26893,600)\n",
    "for i in l1:\n",
    "    f_x.append(spline1(a,b,c,d,i))\n",
    "for i in l2:\n",
    "    f_x.append(spline2(a,b,c,d,i))\n",
    "for i in l3:\n",
    "    f_x.append(spline3(a,b,c,d,i))\n",
    "for i in l4:\n",
    "    f_x.append(spline4(a,b,c,d,i))\n",
    "for i in l5:\n",
    "    f_x.append(spline5(a,b,c,d,i))\n",
    "for i in l6:\n",
    "    f_x.append(spline6(a,b,c,d,i))\n",
    "pl.plot(z, f_x)"
   ]
  }
 ],
 "metadata": {
  "kernelspec": {
   "display_name": "Python 3",
   "language": "python",
   "name": "python3"
  },
  "language_info": {
   "codemirror_mode": {
    "name": "ipython",
    "version": 3
   },
   "file_extension": ".py",
   "mimetype": "text/x-python",
   "name": "python",
   "nbconvert_exporter": "python",
   "pygments_lexer": "ipython3",
   "version": "3.6.3"
  }
 },
 "nbformat": 4,
 "nbformat_minor": 2
}
