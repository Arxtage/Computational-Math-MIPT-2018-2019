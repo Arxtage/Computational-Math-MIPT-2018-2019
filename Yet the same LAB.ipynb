{
 "cells": [
  {
   "cell_type": "code",
   "execution_count": 1,
   "metadata": {
    "collapsed": true
   },
   "outputs": [],
   "source": [
    "import math"
   ]
  },
  {
   "cell_type": "code",
   "execution_count": 2,
   "metadata": {
    "collapsed": true
   },
   "outputs": [],
   "source": [
    "def algebra(a0, a6, max1, max2):\n",
    "    return (abs(a6)/(abs(a6)+max2), abs(1+ max1/abs(a0)))"
   ]
  },
  {
   "cell_type": "code",
   "execution_count": 3,
   "metadata": {
    "collapsed": true
   },
   "outputs": [],
   "source": [
    "#returns the number of sign changes in coefs\n",
    "def func(y,a):\n",
    "    f = list()\n",
    "    f.append(a0*y**6 + a1*y**5 + a2*y**4 + a3*y**3 + a4*y**2 + a5*y +a6)\n",
    "    f.append(6*a0*y**5 + 5*a1*y**4 + 4*a2*y**3 + 3*a3*y**2 + 2*a4*y**1 + a5)\n",
    "    f.append(30*a0*y**4 + 20*a1*y**3 + 12*a2*y**2 + 6*a3*y + 2*a4)\n",
    "    f.append(120*a0*y**3 + 60*a1*y**2 + 24*a2*y + 6*a3)\n",
    "    f.append(360*a0*y**2 + 120*a1*y + 24*a2)\n",
    "    f.append(720*a0*y + 120*a1)\n",
    "    f.append(720*a0)\n",
    "    \n",
    "    i=0\n",
    "    count = 0\n",
    "    \n",
    "    for count in range(6):\n",
    "        if f[count]*f[count+1]<0:\n",
    "            i += 1\n",
    "        else : continue\n",
    "    return i"
   ]
  },
  {
   "cell_type": "code",
   "execution_count": 4,
   "metadata": {
    "collapsed": true
   },
   "outputs": [],
   "source": [
    "def fourier(y0,y1,a):\n",
    "    q = y1\n",
    "    while True:\n",
    "        k = abs(func(y1,a) - func(y0,a))\n",
    "        if k > 1:\n",
    "            y1 = y1/1.5\n",
    "        if k == 1:\n",
    "            print (\"1 root in {}, {}\".format(y0,y1))\n",
    "            y0 = y1\n",
    "            y1 = q\n",
    "        if k==0:\n",
    "            break"
   ]
  },
  {
   "cell_type": "code",
   "execution_count": 5,
   "metadata": {
    "collapsed": true
   },
   "outputs": [],
   "source": [
    "def f(y):\n",
    "    return a0*y**6 + a1*y**5 + a2*y**4 + a3*y**3 + a4*y**2 + a5*y + a6\n",
    "def f1(y):\n",
    "    return 6*a0*y**5 + 5*a1*y**4 + 4*a2*y**3 + 3*a3*y**2 + 2*a4*y**1 + a5\n",
    "\n",
    "def newton(y0, f, f1, err): \n",
    "    y0 = float(y0)\n",
    "    while True:\n",
    "        y1 = y0 - f(y0)/f1(y0)\n",
    "        if abs(y0 - y1) < err:\n",
    "            return y1\n",
    "        y0 = y1"
   ]
  },
  {
   "cell_type": "code",
   "execution_count": 7,
   "metadata": {},
   "outputs": [
    {
     "ename": "TypeError",
     "evalue": "unsupported operand type(s) for -: 'float' and 'tuple'",
     "output_type": "error",
     "traceback": [
      "\u001b[0;31m---------------------------------------------------------------------------\u001b[0m",
      "\u001b[0;31mTypeError\u001b[0m                                 Traceback (most recent call last)",
      "\u001b[0;32m<ipython-input-7-53cd676335cf>\u001b[0m in \u001b[0;36m<module>\u001b[0;34m()\u001b[0m\n\u001b[1;32m     16\u001b[0m \u001b[0malp0\u001b[0m \u001b[0;34m=\u001b[0m \u001b[0;34m(\u001b[0m\u001b[0mg0\u001b[0m \u001b[0;34m+\u001b[0m\u001b[0;36m1\u001b[0m\u001b[0;34m)\u001b[0m\u001b[0;34m/\u001b[0m\u001b[0;34m(\u001b[0m\u001b[0mg0\u001b[0m \u001b[0;34m-\u001b[0m \u001b[0;36m1\u001b[0m\u001b[0;34m)\u001b[0m \u001b[0;31m#alpha0\u001b[0m\u001b[0;34m\u001b[0m\u001b[0m\n\u001b[1;32m     17\u001b[0m \u001b[0malp3\u001b[0m \u001b[0;34m=\u001b[0m \u001b[0;34m(\u001b[0m\u001b[0mg3\u001b[0m \u001b[0;34m+\u001b[0m\u001b[0;36m1\u001b[0m\u001b[0;34m)\u001b[0m\u001b[0;34m/\u001b[0m\u001b[0;34m(\u001b[0m\u001b[0mg3\u001b[0m \u001b[0;34m-\u001b[0m \u001b[0;36m1\u001b[0m\u001b[0;34m)\u001b[0m\u001b[0;34m\u001b[0m\u001b[0m\n\u001b[0;32m---> 18\u001b[0;31m \u001b[0me3\u001b[0m \u001b[0;34m=\u001b[0m \u001b[0;36m2\u001b[0m\u001b[0;34m*\u001b[0m\u001b[0mc3\u001b[0m\u001b[0;34m**\u001b[0m\u001b[0;36m2\u001b[0m\u001b[0;34m/\u001b[0m\u001b[0;34m(\u001b[0m\u001b[0mg3\u001b[0m\u001b[0;34m*\u001b[0m\u001b[0;34m(\u001b[0m\u001b[0mg3\u001b[0m \u001b[0;34m-\u001b[0m \u001b[0;36m1\u001b[0m\u001b[0;34m)\u001b[0m\u001b[0;34m*\u001b[0m\u001b[0;34m(\u001b[0m\u001b[0mu3\u001b[0m \u001b[0;34m-\u001b[0m \u001b[0mu0\u001b[0m\u001b[0;34m)\u001b[0m\u001b[0;34m**\u001b[0m\u001b[0;36m2\u001b[0m\u001b[0;34m)\u001b[0m\u001b[0;34m\u001b[0m\u001b[0m\n\u001b[0m\u001b[1;32m     19\u001b[0m \u001b[0me0\u001b[0m \u001b[0;34m=\u001b[0m \u001b[0;36m2\u001b[0m\u001b[0;34m*\u001b[0m\u001b[0mc0\u001b[0m\u001b[0;34m**\u001b[0m\u001b[0;36m2\u001b[0m\u001b[0;34m/\u001b[0m\u001b[0;34m(\u001b[0m\u001b[0mg0\u001b[0m\u001b[0;34m*\u001b[0m\u001b[0;34m(\u001b[0m\u001b[0mg0\u001b[0m \u001b[0;34m-\u001b[0m \u001b[0;36m1\u001b[0m\u001b[0;34m)\u001b[0m\u001b[0;34m*\u001b[0m\u001b[0;34m(\u001b[0m\u001b[0mu3\u001b[0m \u001b[0;34m-\u001b[0m \u001b[0mu0\u001b[0m\u001b[0;34m)\u001b[0m\u001b[0;34m**\u001b[0m\u001b[0;36m2\u001b[0m\u001b[0;34m)\u001b[0m\u001b[0;34m\u001b[0m\u001b[0m\n\u001b[1;32m     20\u001b[0m \u001b[0mx\u001b[0m \u001b[0;34m=\u001b[0m \u001b[0mp3\u001b[0m\u001b[0;34m/\u001b[0m\u001b[0mp0\u001b[0m\u001b[0;34m\u001b[0m\u001b[0m\n",
      "\u001b[0;31mTypeError\u001b[0m: unsupported operand type(s) for -: 'float' and 'tuple'"
     ]
    }
   ],
   "source": [
    "# characteristics for 0 environment\n",
    "g0 = 5./3\n",
    "r0 = 7.9\n",
    "u0 = -2,72*10**4\n",
    "p0 = 3.04 *10**9\n",
    "c0 = math.sqrt(g0*p0/r0)\n",
    "\n",
    "# characteristics for 3 environment\n",
    "g3 = 7./5\n",
    "r3 = 11.37\n",
    "u3 = 2.28 * 10**4\n",
    "p3 = 1.17928 * 10**9\n",
    "c3 = math.sqrt(g3*p3/r3)\n",
    "\n",
    "#some equations\n",
    "alp0 = (g0 +1)/(g0 - 1) #alpha0\n",
    "alp3 = (g3 +1)/(g3 - 1)\n",
    "e3 = 2*c3**2/(g3*(g3 - 1)*(u3 - u0)**2)\n",
    "e0 = 2*c0**2/(g0*(g0 - 1)*(u3 - u0)**2)\n",
    "x = p3/p0"
   ]
  },
  {
   "cell_type": "code",
   "execution_count": 7,
   "metadata": {
    "collapsed": true
   },
   "outputs": [],
   "source": [
    "#polynomial coefs\n",
    "a0 = (alp0*e3 - alp3*x*e0)**2\n",
    "a1 = 2*((alp0*e3 - alp3*x*e0)*(e3*(1-2*alp0*x)-e0*x*(x-2*alp3)) - alp3*alp0*x*(alp0*e3 + alp3*x*e0))\n",
    "a2 = e3**2*(6*alp0**2*x**2 - 8*alp0*x +1) - 2*e0*e3*x*(alp0*alp3*(x**2+4*x+1)-2*(x+1)*(alp3+alp0*x)+x) + e0**2*x**2*(6*alp3**2 - 8*alp3*x +x**2) +alp0**2*alp3**2*x**2- 2*alp0*x*e3*(alp0*x -2*alp0*alp3*x +2*alp3) - 2*alp3*x**2*e0*(alp3 +2*alp0*x - 2*alp0*alp3)\n",
    "a3 = -2*x*(2*e3**2*(alp0**2*x**2-3*alp0*x+1)+e0*e3*((alp3+alp0*x)*(x**2+4*x+1)-2*alp0*alp3*x*(x+1)-2*x*(x+1))+2*e0**2*x*(x**2 -3*alp3*x +alp3**2)-alp0*alp3*x*(alp0*x +alp3)+e3*(alp0**2*alp3*x**2 -2*x*(2*alp0*alp3 +alp0**2*x)+(2*alp0*x+alp3))+e0*x*(alp0*alp3**2 -2*alp3*(alp3+2*alp0*x)+2*alp3*x+alp0*x**2))\n",
    "a4 = x**2*(e3**2*(alp0**2*x**2-8*alp0*x+6)-2*e0*e3*(alp0*alp3*x -2*(x+1)*(alp3+alp0*x)+x**2+4*x+1)+e0**2*(alp3**2-8*alp3*x+6*x**2)+(alp3**2+4*alp0*alp3*x+alp0**2*x**2)-2*e3*((alp0**2*x+2*alp0*alp3)*x-2*(2*alp0*x+alp3)+1)-2*e0*(alp3*(2*alp0*x+alp3)-2*x*(2*alp3+alp0*x)+x**2))\n",
    "a5 = 2*x**3*(e3**2*(alp0*x-2)-e0*e3*(alp0*x-2+alp3-2*x)+e0**2*(alp3-2*x)+(alp3+alp0*x)-e3*(2*alp0*x+alp3-2)-e0*(2*alp3+alp0*x-2*x))\n",
    "a6 = x**4*((e3-e0)**2 +1-2*(e3+e0))"
   ]
  },
  {
   "cell_type": "code",
   "execution_count": 8,
   "metadata": {},
   "outputs": [
    {
     "name": "stdout",
     "output_type": "stream",
     "text": [
      "(0.04781896574779677, -15.556455470825224, 54.94519474816364, 25.170302866552102, 3.752937118288563, 0.16170985900898702, -0.0013290583763149039)\n"
     ]
    }
   ],
   "source": [
    "a =(a0,a1,a2,a3,a4,a5,a6)\n",
    "print a"
   ]
  },
  {
   "cell_type": "code",
   "execution_count": 9,
   "metadata": {},
   "outputs": [
    {
     "data": {
      "text/plain": [
       "(2.4188215818608603e-05, 1150.0251595559698)"
      ]
     },
     "execution_count": 9,
     "metadata": {},
     "output_type": "execute_result"
    }
   ],
   "source": [
    "(y0,y1) = algebra(a0,a6,a2,a2)\n",
    "y0,y1"
   ]
  },
  {
   "cell_type": "code",
   "execution_count": 10,
   "metadata": {},
   "outputs": [
    {
     "name": "stdout",
     "output_type": "stream",
     "text": [
      "1 root in 2.41882158186e-05, 3.93939668314\n",
      "1 root in 3.93939668314, 227.165463616\n",
      "1 root in 227.165463616, 1150.02515956\n"
     ]
    }
   ],
   "source": [
    "fourier(y0,y1, a)"
   ]
  },
  {
   "cell_type": "code",
   "execution_count": 11,
   "metadata": {},
   "outputs": [
    {
     "data": {
      "text/plain": [
       "(2.4188215818608603e-05, 1150.0251595559698)"
      ]
     },
     "execution_count": 11,
     "metadata": {},
     "output_type": "execute_result"
    }
   ],
   "source": [
    "y0,y1"
   ]
  },
  {
   "cell_type": "code",
   "execution_count": 12,
   "metadata": {},
   "outputs": [
    {
     "name": "stdout",
     "output_type": "stream",
     "text": [
      "1 root in -2.41882158186e-05, -0.102472748147\n"
     ]
    }
   ],
   "source": [
    "fourier(-y0,-y1, a)"
   ]
  },
  {
   "cell_type": "code",
   "execution_count": 13,
   "metadata": {},
   "outputs": [
    {
     "data": {
      "text/plain": [
       "(0.13072436121874836,\n",
       " 4.244322077614593,\n",
       " 321.74347497940545,\n",
       " -0.0916981421090693)"
      ]
     },
     "execution_count": 13,
     "metadata": {},
     "output_type": "execute_result"
    }
   ],
   "source": [
    "newton(2.4,f,f1,0.1) , newton(228,f,f1,0.5) , newton(1150,f,f1,0.5) , newton(-0.1,f,f1,0.5)"
   ]
  }
 ],
 "metadata": {
  "kernelspec": {
   "display_name": "Python 2",
   "language": "python",
   "name": "python2"
  },
  "language_info": {
   "codemirror_mode": {
    "name": "ipython",
    "version": 2
   },
   "file_extension": ".py",
   "mimetype": "text/x-python",
   "name": "python",
   "nbconvert_exporter": "python",
   "pygments_lexer": "ipython2",
   "version": "2.7.13"
  }
 },
 "nbformat": 4,
 "nbformat_minor": 2
}
