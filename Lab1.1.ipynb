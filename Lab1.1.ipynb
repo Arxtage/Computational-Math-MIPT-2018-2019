{
 "cells": [
  {
   "cell_type": "code",
   "execution_count": 47,
   "metadata": {
    "collapsed": true
   },
   "outputs": [],
   "source": [
    "import math\n",
    "import matplotlib.pyplot as plt"
   ]
  },
  {
   "cell_type": "code",
   "execution_count": 48,
   "metadata": {
    "collapsed": true
   },
   "outputs": [],
   "source": [
    "def newton(y0, f, f1, err):\n",
    "    y0 = float(y0)\n",
    "    while True:\n",
    "        y1 = y0 - f(y0)/f1(y0)\n",
    "        if abs(y0 - y1) < err:\n",
    "            return y1\n",
    "        y0 = y1"
   ]
  },
  {
   "cell_type": "code",
   "execution_count": 49,
   "metadata": {},
   "outputs": [],
   "source": [
    "def fourier(y0,y1, f1,f2,f3,f4,f5,f6,pack):\n",
    "    q = 0\n",
    "    if f1(y0)*f1(y1)<0:\n",
    "        q += q\n",
    "    if f2(y0)*f2(y1)<0:\n",
    "        q += q\n",
    "    if f3(y0)*f3(y1)<0:\n",
    "        q += q\n",
    "    if f4(y0)*f4(y1)<0:\n",
    "        q += q\n",
    "    if f5(y0)*f5(y1)<0:\n",
    "        q += q\n",
    "    if f6(y0)*f6(y1)<0:\n",
    "        q += q\n",
    "        return q"
   ]
  },
  {
   "cell_type": "code",
   "execution_count": 50,
   "metadata": {
    "collapsed": true
   },
   "outputs": [],
   "source": [
    "def decart(tuple):\n",
    "    k = 0\n",
    "    ch = 0\n",
    "    while True:\n",
    "        if tuple[k]*tuple[k+1]<0:\n",
    "            ch+=1\n",
    "        if k==5:\n",
    "            return ch\n",
    "        k+=1"
   ]
  },
  {
   "cell_type": "code",
   "execution_count": 51,
   "metadata": {},
   "outputs": [],
   "source": [
    "def algebra(a0, a6, max1, max2):\n",
    "    return (abs(a6)/(abs(a6)+max2), abs(1+ max1/abs(a0)))"
   ]
  },
  {
   "cell_type": "code",
   "execution_count": 52,
   "metadata": {
    "collapsed": true
   },
   "outputs": [],
   "source": [
    "def f(y):\n",
    "    return a0*y**6 + a1*y**5 + a2*y**4 + a3*y**3 + a4*y**2 + a5*y + a6"
   ]
  },
  {
   "cell_type": "code",
   "execution_count": 53,
   "metadata": {
    "collapsed": true
   },
   "outputs": [],
   "source": [
    "def f1(y):\n",
    "    return 6*a0*y**5 + 5*a1*y**4 + 4*a2*y**3 + 3*a3*y**2 + 2*a4*y**1 + a5\n",
    "def f2(y):\n",
    "    return 30*a0*y**4 + 20*a1*y**3 + 12*a2*y**2 + 6*a3*y + 2*a4\n",
    "def f3(y):\n",
    "    return 120*a0*y**3 + 60*a1*y**2 + 24*a2*y + 6*a3\n",
    "def f4(y):\n",
    "    return 360*a0*y**2 + 120*a1*y + 24*a2\n",
    "def f5(y):\n",
    "    return 720*a0*y + 120*a1\n",
    "def f6(y):\n",
    "    return 720*a0"
   ]
  },
  {
   "cell_type": "code",
   "execution_count": 54,
   "metadata": {
    "collapsed": true
   },
   "outputs": [],
   "source": [
    "# characteristics for 0 environment\n",
    "g0 = 5./3\n",
    "r0 = 7.9\n",
    "u0 = 0.\n",
    "p0 = 3.04 *10**9\n",
    "c0 = math.sqrt(g0*p0/r0)\n",
    "\n",
    "# characteristics for 3 environment\n",
    "g3 = 5./3\n",
    "r3 = 11.37\n",
    "u3 = 5. * 10**4\n",
    "p3 = 1.17928 * 10**9\n",
    "c3 = math.sqrt(g3*p3/r3)"
   ]
  },
  {
   "cell_type": "code",
   "execution_count": 55,
   "metadata": {
    "collapsed": true
   },
   "outputs": [],
   "source": [
    "alp0 = (g0 +1)/(g0 - 1) #alpha0\n",
    "alp3 = (g3 +1)/(g3 - 1)\n",
    "e3 = 2*c3**2/(g3*(g3 - 1)*(u3 - u0)**2)\n",
    "e0 = 2*c0**2/(g0*(g0 - 1)*(u3 - u0)**2)\n",
    "x = p3/p0"
   ]
  },
  {
   "cell_type": "code",
   "execution_count": 56,
   "metadata": {
    "collapsed": true
   },
   "outputs": [],
   "source": [
    "#polynomial coefs\n",
    "a0 = (alp0*e3 - alp3*x*e0)**2\n",
    "a1 = 2*((alp0*e3 - alp3*x*e0)*(e3*(1-2*alp0*x)-e0*x*(x-2*alp3)) - alp3*alp0*x*(alp0*e3 + alp3*x*e0))\n",
    "a2 = e3**2*(6*alp0**2*x**2 - 8*alp0*x +1) - 2*e0*e3*x*(alp0*alp3*(x**2+4*x+1)-2*(x+1)*(alp3+alp0*x)+x) + e0**2*x**2*(6*alp3**2 - 8*alp3*x +x**2) +alp0**2*alp3**2*x**2- 2*alp0*x*e3*(alp0*x -2*alp0*alp3*x +2*alp3) - 2*alp3*x**2*e0*(alp3 +2*alp0*x - 2*alp0*alp3)\n",
    "a3 = -2*x*(2*e3**2*(alp0**2*x**2-3*alp0*x+1)+e0*e3*((alp3+alp0*x)*(x**2+4*x+1)-2*alp0*alp3*x*(x+1)-2*x*(x+1))+2*e0**2*x*(x**2 -3*alp3*x +alp3**2)-alp0*alp3*x*(alp0*x +alp3)+e3*(alp0**2*alp3*x**2 -2*x*(2*alp0*alp3 +alp0**2*x)+(2*alp0*x+alp3))+e0*x*(alp0*alp3**2 -2*alp3*(alp3+2*alp0*x)+2*alp3*x+alp0*x**2))\n",
    "a4 = x**2*(e3**2*(alp0**2*x**2-8*alp0*x+6)-2*e0*e3*(alp0*alp3*x -2*(x+1)*(alp3+alp0*x)+x**2+4*x+1)+e0**2*(alp3**2-8*alp3*x+6*x**2)+(alp3**2+4*alp0*alp3*x+alp0**2*x**2)-2*e3*((alp0**2*x+2*alp0*alp3)*x-2*(2*alp0*x+alp3)+1)-2*e0*(alp3*(2*alp0*x+alp3)-2*x*(2*alp3+alp0*x)+x**2))\n",
    "a5 = 2*x**3*(e3**2*(alp0*x-2)-e0*e3*(alp0*x-2+alp3-2*x)+e0**2*(alp3-2*x)+(alp3+alp0*x)-e3*(2*alp0*x+alp3-2)-e0*(2*alp3+alp0*x-2*x))\n",
    "a6 = x**4*((e3-e0)**2 +1-2*(e3+e0))"
   ]
  },
  {
   "cell_type": "code",
   "execution_count": 57,
   "metadata": {},
   "outputs": [
    {
     "name": "stdout",
     "output_type": "stream",
     "text": [
      "[0.04781896574779677, -15.556455470825224, 54.94519474816364, 25.170302866552102, 3.752937118288563, 0.16170985900898702, -0.0013290583763149039]\n"
     ]
    }
   ],
   "source": [
    "pack1 = [a0,a1,a2,a3,a4,a5,a6]\n",
    "print pack1"
   ]
  },
  {
   "cell_type": "code",
   "execution_count": 58,
   "metadata": {},
   "outputs": [
    {
     "name": "stdout",
     "output_type": "stream",
     "text": [
      "[0.04781896574779677, 15.556455470825224, 54.94519474816364, -25.170302866552102, 3.752937118288563, -0.16170985900898702, -0.0013290583763149039]\n"
     ]
    }
   ],
   "source": [
    "pack2 = [a0,-a1,a2,-a3,a4,-a5,a6]\n",
    "print pack2"
   ]
  },
  {
   "cell_type": "code",
   "execution_count": 59,
   "metadata": {},
   "outputs": [
    {
     "data": {
      "text/plain": [
       "3"
      ]
     },
     "execution_count": 59,
     "metadata": {},
     "output_type": "execute_result"
    }
   ],
   "source": [
    "decart(pack1)"
   ]
  },
  {
   "cell_type": "code",
   "execution_count": 60,
   "metadata": {},
   "outputs": [
    {
     "data": {
      "text/plain": [
       "3"
      ]
     },
     "execution_count": 60,
     "metadata": {},
     "output_type": "execute_result"
    }
   ],
   "source": [
    "decart(pack2)"
   ]
  },
  {
   "cell_type": "code",
   "execution_count": 61,
   "metadata": {},
   "outputs": [
    {
     "name": "stdout",
     "output_type": "stream",
     "text": [
      "(0.0029344754556934255, 1150.0251595559698)\n"
     ]
    }
   ],
   "source": [
    "m = algebra(pack1[0],pack1[5],pack1[2],pack1[2])\n",
    "print m"
   ]
  },
  {
   "cell_type": "code",
   "execution_count": 62,
   "metadata": {},
   "outputs": [
    {
     "data": {
      "text/plain": [
       "321.7434475341548"
      ]
     },
     "execution_count": 62,
     "metadata": {},
     "output_type": "execute_result"
    }
   ],
   "source": [
    "newton(m[1],f,f1,0.01)"
   ]
  },
  {
   "cell_type": "code",
   "execution_count": 63,
   "metadata": {},
   "outputs": [
    {
     "data": {
      "text/plain": [
       "0.007390037722519487"
      ]
     },
     "execution_count": 63,
     "metadata": {},
     "output_type": "execute_result"
    }
   ],
   "source": [
    "newton(m[0],f,f1,0.01)"
   ]
  },
  {
   "cell_type": "code",
   "execution_count": 64,
   "metadata": {},
   "outputs": [
    {
     "data": {
      "text/plain": [
       "4.0008402288270855"
      ]
     },
     "execution_count": 64,
     "metadata": {},
     "output_type": "execute_result"
    }
   ],
   "source": [
    "newton((m[1]+m[0])/5,f,f1,0.01)"
   ]
  },
  {
   "cell_type": "code",
   "execution_count": 65,
   "metadata": {},
   "outputs": [
    {
     "data": {
      "text/plain": [
       "-0.0920362315704315"
      ]
     },
     "execution_count": 65,
     "metadata": {},
     "output_type": "execute_result"
    }
   ],
   "source": [
    "newton(-m[1],f,f1,0.01)"
   ]
  },
  {
   "cell_type": "code",
   "execution_count": 66,
   "metadata": {},
   "outputs": [
    {
     "data": {
      "text/plain": [
       "0.007151533268278444"
      ]
     },
     "execution_count": 66,
     "metadata": {},
     "output_type": "execute_result"
    }
   ],
   "source": [
    "newton(-m[0],f,f1,0.01)"
   ]
  },
  {
   "cell_type": "code",
   "execution_count": 68,
   "metadata": {
    "collapsed": true
   },
   "outputs": [],
   "source": [
    "fourier(m[0],m[1],f1,f2,f3,f4,f5,f6,pack1)"
   ]
  },
  {
   "cell_type": "code",
   "execution_count": null,
   "metadata": {
    "collapsed": true
   },
   "outputs": [],
   "source": []
  }
 ],
 "metadata": {
  "kernelspec": {
   "display_name": "Python 2",
   "language": "python",
   "name": "python2"
  },
  "language_info": {
   "codemirror_mode": {
    "name": "ipython",
    "version": 2
   },
   "file_extension": ".py",
   "mimetype": "text/x-python",
   "name": "python",
   "nbconvert_exporter": "python",
   "pygments_lexer": "ipython2",
   "version": "2.7.13"
  }
 },
 "nbformat": 4,
 "nbformat_minor": 2
}
